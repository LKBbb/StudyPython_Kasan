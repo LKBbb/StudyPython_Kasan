{
 "cells": [
  {
   "cell_type": "markdown",
   "metadata": {},
   "source": [
    "## 입출력, 파일 입출력\n",
    "1. 화면 입출력"
   ]
  },
  {
   "cell_type": "code",
   "execution_count": 7,
   "metadata": {},
   "outputs": [
    {
     "data": {
      "text/plain": [
       "5"
      ]
     },
     "execution_count": 7,
     "metadata": {},
     "output_type": "execute_result"
    }
   ],
   "source": [
    "# 기본 화면 입출력\n",
    "a = input('원하는 숫자를 입력하세요. : ')\n",
    "a = int(a)\n",
    "a + 4"
   ]
  },
  {
   "cell_type": "code",
   "execution_count": 20,
   "metadata": {},
   "outputs": [
    {
     "name": "stdout",
     "output_type": "stream",
     "text": [
      "Life is short, you need Python.\n",
      "108\n",
      "[0, 1, 2, 3, 4, 5, 6, 7, 8, 9, 10, 11, 12, 13, 14, 15, 16, 17, 18, 19, 20, 21, 22, 23, 24, 25, 26, 27, 28, 29, 30, 31, 32, 33, 34]\n",
      "Life is short\n",
      "Life is short\n",
      "Life is short\n"
     ]
    }
   ],
   "source": [
    "# 기본 화면 출력\n",
    "b = 'Life is short, you need Python.'\n",
    "print(b)\n",
    "b = 108\n",
    "print(b)\n",
    "b = [i for i in range(0, 35)]\n",
    "print(b)\n",
    "\n",
    "print(\"Life\" \" is\" \" short\") # 거의 사용안함\n",
    "print('Life' + ' is' + ' short') # 문자열 결함 (concatnate) + 연산자\n",
    "print('Life', 'is', 'short')\n"
   ]
  },
  {
   "cell_type": "code",
   "execution_count": 24,
   "metadata": {},
   "outputs": [
    {
     "name": "stdout",
     "output_type": "stream",
     "text": [
      "1 2 3 4 "
     ]
    }
   ],
   "source": [
    "a = [1,2,3,4]\n",
    "for i in a:\n",
    "    print(i, end = ' ')"
   ]
  },
  {
   "cell_type": "code",
   "execution_count": 26,
   "metadata": {},
   "outputs": [
    {
     "name": "stdout",
     "output_type": "stream",
     "text": [
      "a\n",
      "b\n"
     ]
    }
   ],
   "source": [
    "# 다중값 입력\n",
    "(x, y) = input('두개의 영어 단어를 입력하세요. ').split()\n",
    "print(x)\n",
    "print(y)"
   ]
  },
  {
   "cell_type": "code",
   "execution_count": 28,
   "metadata": {},
   "outputs": [
    {
     "name": "stdout",
     "output_type": "stream",
     "text": [
      "90\n"
     ]
    }
   ],
   "source": [
    "(x, y) = input('두개의 수를 입력하세요.(구분자 ,) ').split(',')\n",
    "print(int(x) * int(y))"
   ]
  },
  {
   "cell_type": "code",
   "execution_count": 35,
   "metadata": {},
   "outputs": [
    {
     "name": "stdout",
     "output_type": "stream",
     "text": [
      "hello\n",
      "world\n",
      "\tHi~\"wow\"\t \\ \fBla Bla \n",
      "wefa\u0007\n"
     ]
    }
   ],
   "source": [
    "# Escape Character (탈출문자 = 특수문자)\n",
    "test_srt = \"hello\\nworld\\n\\tHi~!\\b\\\"wow\\\"\\t \\\\ \\fBla Bla \\r\\nwefa\\a\"\n",
    "print(test_srt)"
   ]
  },
  {
   "cell_type": "code",
   "execution_count": 44,
   "metadata": {},
   "outputs": [
    {
     "name": "stdout",
     "output_type": "stream",
     "text": [
      "저는 임경빈 이고    20대 후반입니다. \n",
      "저는 임경빈 이고    20대 후반입니다. \n",
      "저는 임경빈 이고    20대 후반입니다. \n"
     ]
    }
   ],
   "source": [
    "# 문자열 포맷팅\n",
    "# 구시대 방법\n",
    "\n",
    "print('%s는 %s 이고 %5d대 %s입니다. '%('저','임경빈',20,'후반'))\n",
    "\n",
    "#신식방법 1\n",
    "print('{0}는 {1} 이고 {2:>5}대 {3}입니다. '.format('저','임경빈',20,'후반'))\n",
    "#Python 3.6부터 변경된 방법, 추천방법!\n",
    "print(f'{\"저\"}는 {\"임경빈\"} 이고 {20:>5}대 {\"후반\"}입니다. ')\n"
   ]
  },
  {
   "cell_type": "markdown",
   "metadata": {},
   "source": []
  },
  {
   "cell_type": "markdown",
   "metadata": {},
   "source": [
    "2. 파일 입출력"
   ]
  },
  {
   "cell_type": "code",
   "execution_count": 49,
   "metadata": {},
   "outputs": [],
   "source": [
    "# 파일 출력 ※파일은 열면 무조건 닫아야 합니다.\n",
    "file = open('sample.txt', mode = 'a', encoding = 'UTF-8') # 파일 열기\n",
    "file.write('안녕하세요. 파이썬 학습중입니다. \\n')\n",
    "file.write('두번째 줄 시작입니다.\\n')\n",
    "file.write('세번째 문장이에요.\\n')\n",
    "file.close() # 파일 닫기"
   ]
  },
  {
   "cell_type": "code",
   "execution_count": 53,
   "metadata": {},
   "outputs": [
    {
     "name": "stdout",
     "output_type": "stream",
     "text": [
      "안녕하세요. 파이썬 학습중입니다. \n",
      "두번째 줄 시작입니다.안녕하세요. 파이썬 학습중입니다. \n",
      "두번째 줄 시작입니다.\n",
      "세번째 문장이에요.\n",
      "안녕하세요. 파이썬 학습중입니다. \n",
      "두번째 줄 시작입니다.\n",
      "세번째 문장이에요.\n",
      "\n"
     ]
    }
   ],
   "source": [
    "# 파일 입력\n",
    "fr = open('sample.txt', mode = 'r', encoding = 'UTF-8')\n",
    "text = fr.read() # 한번에 다 읽는것\n",
    "\n",
    "fr.close()\n",
    "print(text)"
   ]
  },
  {
   "cell_type": "code",
   "execution_count": 56,
   "metadata": {},
   "outputs": [
    {
     "name": "stdout",
     "output_type": "stream",
     "text": [
      "안녕하세요. 파이썬 학습중입니다. \n",
      "두번째 줄 시작입니다.안녕하세요. 파이썬 학습중입니다. \n",
      "두번째 줄 시작입니다.\n",
      "세번째 문장이에요.\n",
      "안녕하세요. 파이썬 학습중입니다. \n",
      "두번째 줄 시작입니다.\n",
      "세번째 문장이에요.\n"
     ]
    }
   ],
   "source": [
    "# 파일 읽기 한줄씩 읽어오기(일반적)\n",
    "fr = open('sample.txt', mode = 'r', encoding = 'UTF-8')\n",
    "while True :\n",
    "    line = fr.readline() # 한줄씩 읽기\n",
    "    if not line : break\n",
    "\n",
    "    print(line, end = '')\n",
    "\n",
    "fr.close()\n"
   ]
  },
  {
   "cell_type": "markdown",
   "metadata": {},
   "source": [
    "3. csv 파일 읽기"
   ]
  },
  {
   "cell_type": "code",
   "execution_count": null,
   "metadata": {},
   "outputs": [],
   "source": [
    "import csv # csv 모듈 추가\n",
    "\n",
    "file_name = 'seoul_bus.csv'\n",
    "dir_name = 'C:/Repository/StudyPython_Kasan/day3/'\n",
    "\n",
    "f = open(f'{dir_name}{file_name}', mode = 'r', encoding = 'UTF-8')\n",
    "\n",
    "reader = csv.reader(f, delimiter= ',') # 구분자 ,\n",
    "# next(reader)  #제목 줄 스킵\n",
    "for line in reader :\n",
    "    print(line)\n",
    "f.close()\n"
   ]
  },
  {
   "cell_type": "code",
   "execution_count": null,
   "metadata": {},
   "outputs": [],
   "source": []
  }
 ],
 "metadata": {
  "interpreter": {
   "hash": "26de051ba29f2982a8de78e945f0abaf191376122a1563185a90213a26c5da77"
  },
  "kernelspec": {
   "display_name": "Python 3.10.4 64-bit",
   "language": "python",
   "name": "python3"
  },
  "language_info": {
   "codemirror_mode": {
    "name": "ipython",
    "version": 3
   },
   "file_extension": ".py",
   "mimetype": "text/x-python",
   "name": "python",
   "nbconvert_exporter": "python",
   "pygments_lexer": "ipython3",
   "version": "3.10.4"
  },
  "orig_nbformat": 4
 },
 "nbformat": 4,
 "nbformat_minor": 2
}
