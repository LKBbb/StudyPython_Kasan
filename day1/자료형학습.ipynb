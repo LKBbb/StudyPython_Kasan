{
 "cells": [
  {
   "cell_type": "markdown",
   "metadata": {},
   "source": [
    "## 자료형 학습\n",
    "1. None형 - 무엇인지 알 수 없음"
   ]
  },
  {
   "cell_type": "code",
   "execution_count": 1,
   "metadata": {},
   "outputs": [
    {
     "name": "stdout",
     "output_type": "stream",
     "text": [
      "False\n"
     ]
    }
   ],
   "source": [
    "# None (특수형태)\n",
    "print(0 == None)"
   ]
  },
  {
   "cell_type": "markdown",
   "metadata": {},
   "source": [
    "2. 숫자형 - 가장 많이 쓰이는 자료형"
   ]
  },
  {
   "cell_type": "code",
   "execution_count": 2,
   "metadata": {},
   "outputs": [
    {
     "name": "stdout",
     "output_type": "stream",
     "text": [
      "10\n",
      "3.16\n",
      "15\n",
      "42\n",
      "255\n"
     ]
    }
   ],
   "source": [
    "# 숫자형\n",
    "int_val = 10\n",
    "print(int_val)\n",
    "float_val = 3.16\n",
    "print(float_val)\n",
    "# 2진수\n",
    "bin_val = 0b1111 #2진수\n",
    "print(bin_val)\n",
    "oct_val = 0o52   #8진수\n",
    "print(oct_val)\n",
    "hex_val = 0xff   #16진수\n",
    "print(hex_val)"
   ]
  },
  {
   "cell_type": "code",
   "execution_count": 3,
   "metadata": {},
   "outputs": [
    {
     "name": "stdout",
     "output_type": "stream",
     "text": [
      "<class 'int'>\n",
      "<class 'float'>\n",
      "<class 'int'>\n"
     ]
    }
   ],
   "source": [
    "# 자료형 확인\n",
    "print(type(int_val))\n",
    "print(type(float_val))\n",
    "print(type(hex_val))"
   ]
  },
  {
   "cell_type": "markdown",
   "metadata": {},
   "source": [
    "3. 문자열형 - 출력을 위해 사용"
   ]
  },
  {
   "cell_type": "code",
   "execution_count": 4,
   "metadata": {},
   "outputs": [
    {
     "name": "stdout",
     "output_type": "stream",
     "text": [
      "Life is short, \n",
      "You need Python\n",
      "Hello, Python\n",
      "Hello\n",
      "My name is LKB.\n",
      "Bye~\n"
     ]
    }
   ],
   "source": [
    "#문자열형\n",
    "bruce_eckel = 'Life is short, \\nYou need Python'\n",
    "print(bruce_eckel)\n",
    "greeting = \"Hello, Python\"\n",
    "print(greeting)\n",
    "\n",
    "multi_str_val = '''Hello\n",
    "My name is LKB.\n",
    "Bye~'''\n",
    "print(multi_str_val)"
   ]
  },
  {
   "cell_type": "markdown",
   "metadata": {},
   "source": [
    "4. 불린형 (Boolean)"
   ]
  },
  {
   "cell_type": "code",
   "execution_count": 7,
   "metadata": {},
   "outputs": [
    {
     "name": "stdout",
     "output_type": "stream",
     "text": [
      "False\n",
      "True\n",
      "<class 'bool'>\n"
     ]
    }
   ],
   "source": [
    "#불린\n",
    "print(1 == 1 * 2)\n",
    "a = 10\n",
    "print(a == 2 * 5)\n",
    "print(type(False))"
   ]
  },
  {
   "cell_type": "code",
   "execution_count": 8,
   "metadata": {},
   "outputs": [
    {
     "name": "stdout",
     "output_type": "stream",
     "text": [
      "True\n",
      "True\n",
      "True\n",
      "False\n"
     ]
    }
   ],
   "source": [
    "#불린 계속\n",
    "bl_true = True\n",
    "bl_false = False\n",
    "print(bl_true is True)\n",
    "print(bl_true == True)\n",
    "print(bool(1))\n",
    "print(bool(0))"
   ]
  },
  {
   "cell_type": "markdown",
   "metadata": {},
   "source": [
    "5. 복합"
   ]
  }
 ],
 "metadata": {
  "interpreter": {
   "hash": "26de051ba29f2982a8de78e945f0abaf191376122a1563185a90213a26c5da77"
  },
  "kernelspec": {
   "display_name": "Python 3.10.4 64-bit",
   "language": "python",
   "name": "python3"
  },
  "language_info": {
   "codemirror_mode": {
    "name": "ipython",
    "version": 3
   },
   "file_extension": ".py",
   "mimetype": "text/x-python",
   "name": "python",
   "nbconvert_exporter": "python",
   "pygments_lexer": "ipython3",
   "version": "3.10.4"
  },
  "orig_nbformat": 4
 },
 "nbformat": 4,
 "nbformat_minor": 2
}
