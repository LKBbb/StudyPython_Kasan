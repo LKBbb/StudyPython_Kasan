{
 "cells": [
  {
   "cell_type": "markdown",
   "metadata": {},
   "source": [
    "## 1번 문제"
   ]
  },
  {
   "cell_type": "code",
   "execution_count": 49,
   "metadata": {},
   "outputs": [
    {
     "name": "stdout",
     "output_type": "stream",
     "text": [
      "반지름 10인 원의 넓이는 314.1592653589793 입니다.\n"
     ]
    }
   ],
   "source": [
    "import math\n",
    "\n",
    "radius  = int(input('반지름 값을 입력하세요.'))\n",
    "res = (radius * radius) * math.pi\n",
    "print(f'반지름 {radius}인 원의 넓이는 {res} 입니다.')\n"
   ]
  },
  {
   "cell_type": "markdown",
   "metadata": {},
   "source": [
    "## 2번문제"
   ]
  },
  {
   "cell_type": "code",
   "execution_count": 14,
   "metadata": {},
   "outputs": [
    {
     "name": "stdout",
     "output_type": "stream",
     "text": [
      "목성의 영어 행성명은 Jupiter 입니다.\n",
      "천왕성의 영어 행성명은 Uranus 입니다.\n",
      "천왕성의 영어 행성명은 Uranus 입니다.\n"
     ]
    }
   ],
   "source": [
    "solar_sys = {'수성' : 'Mercury', '금성' : 'Venus', '지구' : 'Earth', '화성' : 'Mars', \n",
    "            '목성' : 'Jupiter', '토성' : 'Saturn', '천왕성' : 'Uranus','혜왕성' : 'Neptune '}\n",
    "\n",
    "while True :\n",
    "    kor_name = input('한글 행성명을 입력하세요.')\n",
    "    if kor_name == 'q' : break\n",
    "    else :\n",
    "        print(f'{kor_name}의 영어 행성명은 {solar_sys[kor_name]} 입니다.')\n"
   ]
  },
  {
   "cell_type": "markdown",
   "metadata": {},
   "source": [
    "## 3번 문제\n"
   ]
  },
  {
   "cell_type": "code",
   "execution_count": 69,
   "metadata": {},
   "outputs": [
    {
     "name": "stdout",
     "output_type": "stream",
     "text": [
      "가나 다라 마 = 3\n"
     ]
    }
   ],
   "source": [
    "word = input('문장을 입력하세요. > ')\n",
    "word_split = word.split()\n",
    "print(f'{word} = {len(word_split)}')"
   ]
  },
  {
   "cell_type": "markdown",
   "metadata": {},
   "source": [
    "## 4번 문제"
   ]
  },
  {
   "cell_type": "code",
   "execution_count": 66,
   "metadata": {},
   "outputs": [
    {
     "name": "stdout",
     "output_type": "stream",
     "text": [
      "2 5 4 3 1 "
     ]
    }
   ],
   "source": [
    "num = input('수를 입력하세요 > ')\n",
    "num_list = list(num)\n",
    "# for i in reversed(range(0,len(num_list))) :\n",
    "for i in range(len(num_list),0,-1) :\n",
    "    print(num_list[i-1], end = ' ')"
   ]
  },
  {
   "cell_type": "markdown",
   "metadata": {},
   "source": [
    "## 5번 문제"
   ]
  },
  {
   "cell_type": "code",
   "execution_count": 67,
   "metadata": {},
   "outputs": [
    {
     "name": "stdout",
     "output_type": "stream",
     "text": [
      "9 * 1 =  9\n",
      "9 * 2 = 18\n",
      "9 * 3 = 27\n",
      "9 * 4 = 36\n",
      "9 * 5 = 45\n",
      "9 * 6 = 54\n",
      "9 * 7 = 63\n",
      "9 * 8 = 72\n",
      "9 * 9 = 81\n"
     ]
    }
   ],
   "source": [
    "dan = int(input('출력할 단을 입력하세요. > '))\n",
    "for i in range(1, 10) :\n",
    "    print(f'{dan} * {i} = {dan * i:>2}')"
   ]
  }
 ],
 "metadata": {
  "interpreter": {
   "hash": "26de051ba29f2982a8de78e945f0abaf191376122a1563185a90213a26c5da77"
  },
  "kernelspec": {
   "display_name": "Python 3.10.4 64-bit",
   "language": "python",
   "name": "python3"
  },
  "language_info": {
   "codemirror_mode": {
    "name": "ipython",
    "version": 3
   },
   "file_extension": ".py",
   "mimetype": "text/x-python",
   "name": "python",
   "nbconvert_exporter": "python",
   "pygments_lexer": "ipython3",
   "version": "3.10.4"
  },
  "orig_nbformat": 4
 },
 "nbformat": 4,
 "nbformat_minor": 2
}
