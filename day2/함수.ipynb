{
 "cells": [
  {
   "cell_type": "markdown",
   "metadata": {},
   "source": [
    "## 함수\n",
    "1.함수정의"
   ]
  },
  {
   "cell_type": "code",
   "execution_count": 16,
   "metadata": {},
   "outputs": [],
   "source": [
    "def add(x, y) :\n",
    "    return x + y\n",
    "def print_add(x, y) :\n",
    "    print(x + y)\n",
    "def print_hello() :\n",
    "    print('Hello, world!')\n",
    "def ret_hello() :\n",
    "    return 'Hello'"
   ]
  },
  {
   "cell_type": "code",
   "execution_count": 22,
   "metadata": {},
   "outputs": [
    {
     "name": "stdout",
     "output_type": "stream",
     "text": [
      "2.302585092994046\n",
      "11\n",
      "12\n",
      "Hello, world!\n",
      "Hello My friend\n",
      "Hello 2.302585092994046 11\n"
     ]
    }
   ],
   "source": [
    "import math\n",
    "res = math.log(10)\n",
    "print(res)\n",
    "\n",
    "add_res = add(7, 4)\n",
    "print(add_res)\n",
    "\n",
    "print_add(7, 5)\n",
    "print_hello()\n",
    "val = ret_hello()\n",
    "print(val, 'My friend')\n",
    "print(val, res, add_res)\n"
   ]
  },
  {
   "cell_type": "code",
   "execution_count": 24,
   "metadata": {},
   "outputs": [],
   "source": [
    "# 매개변수가 가변일때\n",
    "def adds(*args) :\n",
    "    res = 0\n",
    "\n",
    "    for i in args:\n",
    "        res += i\n",
    "    return res"
   ]
  },
  {
   "cell_type": "code",
   "execution_count": 27,
   "metadata": {},
   "outputs": [
    {
     "name": "stdout",
     "output_type": "stream",
     "text": [
      "21\n",
      "55\n"
     ]
    }
   ],
   "source": [
    "print(adds(1,2,3,4,5,6))\n",
    "print(adds(1,2,3,4,5,6,7,8,9,10))"
   ]
  },
  {
   "cell_type": "code",
   "execution_count": 33,
   "metadata": {},
   "outputs": [],
   "source": [
    "def mul_and_add(x, y) :\n",
    "    res_mul = x * y\n",
    "    res_add = x + y\n",
    "    return (res_mul, res_add) # tuple 형식으로 리턴"
   ]
  },
  {
   "cell_type": "code",
   "execution_count": 35,
   "metadata": {},
   "outputs": [
    {
     "name": "stdout",
     "output_type": "stream",
     "text": [
      "72\n",
      "17\n"
     ]
    }
   ],
   "source": [
    "(res1, res2) = mul_and_add(8, 9)\n",
    "print(res1)\n",
    "print(res2)"
   ]
  },
  {
   "cell_type": "code",
   "execution_count": 66,
   "metadata": {},
   "outputs": [],
   "source": [
    "def all_calc(*args) :\n",
    "    res_add = 0; res_sub = 0; last_num = 0; res_mul = 1; res_div = 1\n",
    "    for i in args :\n",
    "        last_num = i\n",
    "        res_mul *= i\n",
    "        res_add += i\n",
    "    res_div = res_mul / last_num\n",
    "    res_sub = res_add - last_num\n",
    "\n",
    "    return(res_add, res_sub, res_mul, res_div)"
   ]
  },
  {
   "cell_type": "code",
   "execution_count": 67,
   "metadata": {},
   "outputs": [
    {
     "name": "stdout",
     "output_type": "stream",
     "text": [
      "55\n",
      "45\n",
      "3628800\n",
      "362880.0\n"
     ]
    }
   ],
   "source": [
    "(res1, res2, res3, res4) = all_calc(1,2,3,4,5,6,7,8,9,10)\n",
    "print(res1)\n",
    "print(res2)\n",
    "print(res3)\n",
    "print(res4)"
   ]
  },
  {
   "cell_type": "markdown",
   "metadata": {},
   "source": [
    "- 매개변수가 없고, 리턴문이 없는 경우\n",
    "- 매개변수가 없고, 리턴문이 있는 경우\n",
    "- 매개변수가 있고, 리턴문이 없는 경우\n",
    "- 매개변수가 있고, 리턴문이 있는 경우\n",
    "- 매개변수의 갯수가 일정치 않은 경우\n",
    "- 리턴되는 결과가 1건 이상인 경우\n",
    "\n",
    "2. 함수와 변수의 라이프 스코프\n",
    "\n"
   ]
  },
  {
   "cell_type": "code",
   "execution_count": 69,
   "metadata": {},
   "outputs": [
    {
     "name": "stdout",
     "output_type": "stream",
     "text": [
      "2\n"
     ]
    }
   ],
   "source": [
    "a = 1\n",
    "\n",
    "def vartest(a) : # 여기 a는 매개변수이고 지역변수\n",
    "    a += 1\n",
    "    return a # a는 없어짐\n",
    "    \n",
    "a = vartest(a)\n",
    "print(a)"
   ]
  },
  {
   "cell_type": "code",
   "execution_count": 72,
   "metadata": {},
   "outputs": [
    {
     "name": "stdout",
     "output_type": "stream",
     "text": [
      "2\n"
     ]
    }
   ],
   "source": [
    "b = 1\n",
    "\n",
    "def vartestb() :\n",
    "    global b # 전역변수를 함수내에서 사용할 때\n",
    "    b += 1\n",
    "    \n",
    "a = vartestb()\n",
    "print(b)"
   ]
  }
 ],
 "metadata": {
  "interpreter": {
   "hash": "26de051ba29f2982a8de78e945f0abaf191376122a1563185a90213a26c5da77"
  },
  "kernelspec": {
   "display_name": "Python 3.10.4 64-bit",
   "language": "python",
   "name": "python3"
  },
  "language_info": {
   "codemirror_mode": {
    "name": "ipython",
    "version": 3
   },
   "file_extension": ".py",
   "mimetype": "text/x-python",
   "name": "python",
   "nbconvert_exporter": "python",
   "pygments_lexer": "ipython3",
   "version": "3.10.4"
  },
  "orig_nbformat": 4
 },
 "nbformat": 4,
 "nbformat_minor": 2
}
